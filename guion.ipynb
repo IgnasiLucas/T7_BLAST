{
 "cells": [
  {
   "cell_type": "markdown",
   "id": "plain-brief",
   "metadata": {},
   "source": [
    "# PSI-BLAST\n",
    "\n",
    "En la práctica de hoy los objetivos son:\n",
    "\n",
    "- Realizar una búsqueda con PSI-BLAST.\n",
    "- Demostrar la utilidad de PSI-BLAST.\n",
    "- Apreciar algunas ventajas de hacerlo desde R.\n",
    "\n",
    "Como punto de partida vamos a usar la secuencia de protoclorofílida reductasa dependiente de luz de *Arabidopsis thaliana* (con número de identificador [AEE27591](https://www.ncbi.nlm.nih.gov/protein/AEE27591.1) en GenBank). La secuencia de esta proteína está ya descargada en el archivo `LPOR_Ath.fas`.\n",
    "\n",
    "En el número de *Molecular Biology and Evolution* de este mes aparece un análisis sobre las protoclorofílida reductasas (Chernomor *et al.* 2020). Estos enzimas son necesarios para la síntesis de clorofila y existen dos tipos principales: los dependientes de luz (LPOR) y los operativos en oscuridad (DPOR).\n",
    "\n",
    "Hasta hace unos años se pensaba que las bacterias fototróficas anoxigénicas (que realizan la fotosíntesis con un donador de electrones diferente al agua, y que por tanto no producen oxígeno) sólo tenían DPORs y no LPORs. Los DPORs son enzimas evolutivamente más antiguos y que no funcionan en presencia de oxígeno. Sin embargo existen bacterias fototróficas anoxigénicas que són *aerobias*: pueden crecer en presencia de oxígeno atmosférico. Y se descubrió que alguna de estas bacterias tenía un gen de una LPOR.\n",
    "\n",
    "En el artículo de Chernomor *et al.* (2020) se demuestra que de hecho las LPOR son más frecuentes entre las bacterias aerobias fototróficas anoxigénicas de lo que se pensaba antes. Este descubrimiento tiene mucho sentido, puesto que sin LPORs estas bacterias difícilmente podrían sintetizar clorofila en presencia de oxígeno.\n",
    "\n",
    "A continuación comprobaremos si somos capaces de detectar homología entre la LPOR de *A. thaliana* y alguna proteína de bacterias aerobias fototróficas anoxigénicas. En las búsquedas con `blastp` y `psiblast` vamos a usar la base de datos de proteinas swissprot, porque es más pequeña que la RefSeq, y he podido incluirla en esta instancia de MyBinder.\n",
    "\n",
    "### Ejercicio 1\n",
    "Utiliza el bloque de código siguiente, con las modificaciones que consideres necesarias, para comprobar mediante un `blastp` si podemos encontrar homología con la LPOR de *A. thaliana* en alguna de las proteínas de Swissprot pertenecientes a las especies seleccionadas."
   ]
  },
  {
   "cell_type": "code",
   "execution_count": null,
   "id": "exact-basketball",
   "metadata": {},
   "outputs": [],
   "source": [
    "blastp.out <- system2(command = 'blastp',\n",
    "                      args = c('-db', 'swissprot',\n",
    "                               '-query', 'LPOR/LPOR_Ath.fas',\n",
    "                               '-evalue', '0.001',\n",
    "                               '-html',\n",
    "                               '-out', 'blast.out.html'),\n",
    "                      wait = TRUE,\n",
    "                      stdout = TRUE)"
   ]
  },
  {
   "cell_type": "markdown",
   "id": "incorporate-demographic",
   "metadata": {},
   "source": [
    "## Limitar la búsqueda por taxonomía\n",
    "Los programas BLAST de NCBI ofrecen la posibilidad de limitar la búsqueda a los taxones de interés. En principio, la opción `-taxids` seguida de un identificador taxonómico de NCBI (e.g., 9606 para la especie humana), o bien la opción `-taxidlist` seguida del nombre del archivo con una lista de taxones limitaría los resultados del BLAST a las especies o grupos indicados. Desafortunadamente esta opción no está disponible en el entorno actual de MyBinder.\n",
    "\n",
    "Podemos repetir la búsqueda manualmente en la página de [BLAST](https://blast.ncbi.nlm.nih.gov/Blast.cgi?PROGRAM=blastp&PAGE_TYPE=BlastSearch&LINK_LOC=blasthome) del NCBI, limitándola esta vez a las especies de bacterias que Chernomor *et al.* (2020) identificaron como aeróbicas anoxigénicas y fototróficas. Encontrarás sus identificadores en el archivo `AAPB.txt`.\n",
    "\n",
    "\n",
    "## PSI-BLAST en NCBI\n",
    "\n",
    "### Ejercicio 2\n",
    "Todavía en la página del NCBI, ejecuta una búsqueda de PSI-BLAST con la misma *query*, familiarízate con los parámetres y tipos de resultados y toma nota de los parámetros que han funcionado mejor.\n",
    "\n",
    "\n",
    "## PSI-BLAST en R\n",
    "\n",
    "Revisa las opciones de PSI-BLAST en la línea de comandos (`psiblast -help`).\n",
    "\n",
    "### Ejercicio 3\n",
    "A partir del ejemplo siguiente, ejecuta una búsqueda de PSI-BLAST en swissprot. Ajusta los parámetros para reproducir la búsqueda hecha anteriormente."
   ]
  },
  {
   "cell_type": "code",
   "execution_count": null,
   "id": "golden-insider",
   "metadata": {},
   "outputs": [],
   "source": [
    "system2(command = 'psiblast',\n",
    "        args = c('-db', 'swissprot',\n",
    "                 '-query', 'LPOR_Ath.fas',\n",
    "                 '-out', 'psi.html',\n",
    "                 '-evalue', '0.001',\n",
    "                 '-inclusion_ethresh', '0.001',\n",
    "                 '-num_iterations', '0'))"
   ]
  },
  {
   "cell_type": "markdown",
   "id": "intimate-garlic",
   "metadata": {},
   "source": [
    "## Extracción de secuencias completas\n",
    "Para realizar un alineamiento con las secuencias encontradas en un BLAST, lo más cómodo es descargarlas de la base de datos utilizando sus identificadores. El comando para esta tarea es `blastdbcmd`. Explora sus opciones en la línea de comandos (`blastdbcmd -help`). Sin embargo, antes de usar esta herramienta, es necesario conocer los identificadores de las secuencias que quieres descargar.\n",
    "\n",
    "### Ejercicio 4\n",
    "¿Sabrías descargar una tabla en R con los identificadores de las secuencias encontradas? Recuerda que para este tipo de tareas es mejor dirigir la salida del BLAST a un formato de table (`outfmt 7`) y leerlo con `read.table(textConnection(blast_output))`.\n",
    "\n"
   ]
  },
  {
   "cell_type": "code",
   "execution_count": null,
   "id": "english-dictionary",
   "metadata": {},
   "outputs": [],
   "source": [
    "psi_out <- system2(command = 'psiblast',\n",
    "                   args = c('-db', 'swissprot',\n",
    "                            '-query', 'LPOR_Ath.fas',\n",
    "                            '-outfmt', '\"7 '))"
   ]
  },
  {
   "cell_type": "markdown",
   "id": "durable-financing",
   "metadata": {},
   "source": [
    "## Referencias\n",
    "\n",
    "- Olga Chernomor, Lena Peters, Judith Schneidewind, Anita Loeschcke, Esther Knieps-Grünhagen, Fabian Schmitz, Eric von Lieres, Roger Jan Kutta, Vera Svensson, Karl-Erich Jaeger, Thomas Drepper, Arndt von Haeseler, Ulrich Krauss, Complex Evolution of Light-Dependent Protochlorophyllide Oxidoreductases in Aerobic Anoxygenic Phototrophs: Origin, Phylogeny, and Function, Molecular Biology and Evolution, Volume 38, Issue 3, March 2021, Pages 819–837, [https://doi.org/10.1093/molbev/msaa234](https://doi.org/10.1093/molbev/msaa234)\n",
    "\n"
   ]
  },
  {
   "cell_type": "code",
   "execution_count": null,
   "id": "creative-courage",
   "metadata": {},
   "outputs": [],
   "source": []
  }
 ],
 "metadata": {
  "kernelspec": {
   "display_name": "R",
   "language": "R",
   "name": "ir"
  },
  "language_info": {
   "codemirror_mode": "r",
   "file_extension": ".r",
   "mimetype": "text/x-r-source",
   "name": "R",
   "pygments_lexer": "r",
   "version": "3.6.3"
  }
 },
 "nbformat": 4,
 "nbformat_minor": 5
}
