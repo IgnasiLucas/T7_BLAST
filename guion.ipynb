{
 "cells": [
  {
   "cell_type": "markdown",
   "id": "plain-brief",
   "metadata": {},
   "source": [
    "# PSI-BLAST\n",
    "\n",
    "En la práctica de hoy los objetivos son:\n",
    "\n",
    "- Realizar una búsqueda con PSI-BLAST.\n",
    "- Demostrar la utilidad de PSI-BLAST.\n",
    "- Apreciar algunas ventajas de hacerlo desde R.\n",
    "\n",
    "Como punto de partida vamos a usar la secuencia de protoclorofílida reductasa dependiente de luz de *Arabidopsis thaliana* (con número de identificador [AEE27591](https://www.ncbi.nlm.nih.gov/protein/AEE27591.1) en GenBank). La secuencia de esta proteína está ya descargada en el archivo `LPOR_Ath.fas`.\n",
    "\n",
    "En el número de *Molecular Biology and Evolution* de este mes aparece un análisis sobre las protoclorofílida reductasas ([@Chernomor2020]). Estos enzimas son necesarios para la síntesis de clorofila y existen dos tipos principales: los dependientes de luz (LPOR) y los operativos en oscuridad (DPOR).\n",
    "\n",
    "Hasta hace unos años se pensaba que las bacterias fototróficas anoxigénicas (que realizan la fotosíntesis con un donador de electrones diferente al agua, y que por tanto no producen oxígeno) sólo tenían DPORs y no LPORs. Los DPORs son enzimas evolutivamente más antiguos y que no funcionan en presencia de oxígeno. Sin embargo existen bacterias fototróficas anoxigénicas que són *aerobias*: pueden crecer en presencia de oxígeno atmosférico. Y se descubrió que alguna de estas bacterias tenía un gen de una LPOR.\n",
    "\n",
    "En el artículo de [@Chernomor2020] se demuestra que de hecho las LPOR son más frecuentes entre las bacterias aerobias fototróficas anoxigénicas de lo que se pensaba antes. Este descubrimiento tiene mucho sentido, puesto que sin LPORs estas bacterias difícilmente podrían sintetizar clorofila en presencia de oxígeno.\n",
    "\n",
    "A continuación comprobaremos si somos capaces de detectar homología entre la LPOR de *A. thaliana* y alguna proteína de bacterias aerobias fototróficas anoxigénicas. En las búsquedas con `blastp` y `psiblast` vamos a usar la base de datos de proteinas swissprot, porque es más pequeña que la RefSeq, y he podido incluirla en esta instancia de MyBinder. Además, limitaremos las búsquedas mediante los identificadores de las especies que [@Chernomor2020] consideran aerobias anoxigénicas y fototróficas. Para ello utiliza la opción `-taxidlist AAPB.txt`.\n",
    "\n",
    "### Ejercicio 1\n",
    "Utiliza el bloque de código siguiente, con las modificaciones que consideres necesarias, para comprobar mediante un simple `blastp` si podemos encontrar homología con la LPOR de *A. thaliana* en alguna de las proteínas de Swissprot pertenecientes a las especies seleccionadas."
   ]
  },
  {
   "cell_type": "code",
   "execution_count": 4,
   "id": "exact-basketball",
   "metadata": {},
   "outputs": [
    {
     "name": "stderr",
     "output_type": "stream",
     "text": [
      "Warning message in system2(command = \"blastp\", args = c(\"-db\", \"nr\", \"-query\", \"LPOR_Ath.fas\", :\n",
      "“running command ''blastp' -db nr -query LPOR_Ath.fas -taxidlist AAPB.txt -evalue 0.001 -outfmt 7 -remote' had status 1”\n"
     ]
    },
    {
     "data": {
      "text/html": [],
      "text/latex": [],
      "text/markdown": [],
      "text/plain": [
       "character(0)\n",
       "attr(,\"status\")\n",
       "[1] 1\n",
       "attr(,\"errmsg\")\n",
       "[1] \"Resource temporarily unavailable\""
      ]
     },
     "metadata": {},
     "output_type": "display_data"
    }
   ],
   "source": [
    "blastp.out <- system2(command = 'blastp',\n",
    "                      args = c('-db', 'nr',\n",
    "                               '-query', 'LPOR_Ath.fas',\n",
    "                               '-taxidlist', 'AAPB.txt',\n",
    "                               '-evalue', '0.001',\n",
    "                               '-outfmt', '7',\n",
    "                               '-remote'),\n",
    "                      wait = TRUE,\n",
    "                      stdout = TRUE)\n",
    "blastp.out\n",
    "#blast.out.tab <- read.table(textConnection(blastp.out))\n"
   ]
  },
  {
   "cell_type": "markdown",
   "id": "durable-financing",
   "metadata": {},
   "source": [
    "## Referencias\n",
    "\n",
    "- Olga Chernomor, Lena Peters, Judith Schneidewind, Anita Loeschcke, Esther Knieps-Grünhagen, Fabian Schmitz, Eric von Lieres, Roger Jan Kutta, Vera Svensson, Karl-Erich Jaeger, Thomas Drepper, Arndt von Haeseler, Ulrich Krauss, Complex Evolution of Light-Dependent Protochlorophyllide Oxidoreductases in Aerobic Anoxygenic Phototrophs: Origin, Phylogeny, and Function, Molecular Biology and Evolution, Volume 38, Issue 3, March 2021, Pages 819–837, [https://doi.org/10.1093/molbev/msaa234]\n",
    "\n"
   ]
  },
  {
   "cell_type": "code",
   "execution_count": null,
   "id": "creative-courage",
   "metadata": {},
   "outputs": [],
   "source": []
  }
 ],
 "metadata": {
  "kernelspec": {
   "display_name": "R",
   "language": "R",
   "name": "ir"
  },
  "language_info": {
   "codemirror_mode": "r",
   "file_extension": ".r",
   "mimetype": "text/x-r-source",
   "name": "R",
   "pygments_lexer": "r",
   "version": "3.6.3"
  }
 },
 "nbformat": 4,
 "nbformat_minor": 5
}
